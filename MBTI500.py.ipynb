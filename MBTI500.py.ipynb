{
 "cells": [
  {
   "cell_type": "code",
   "execution_count": 10,
   "id": "39543921",
   "metadata": {},
   "outputs": [],
   "source": [
    "import pandas as pd\n",
    "import numpy as np\n",
    "import matplotlib.pyplot as plt \n",
    "import seaborn as sns"
   ]
  },
  {
   "cell_type": "markdown",
   "id": "22bf11df",
   "metadata": {},
   "source": [
    "### Create variables"
   ]
  },
  {
   "cell_type": "markdown",
   "id": "ddfe7d05",
   "metadata": {},
   "source": [
    "### Load Data "
   ]
  },
  {
   "cell_type": "code",
   "execution_count": 12,
   "id": "affe3a90",
   "metadata": {},
   "outputs": [
    {
     "name": "stdout",
     "output_type": "stream",
     "text": [
      "<class 'pandas.core.frame.DataFrame'>\n",
      "RangeIndex: 106067 entries, 0 to 106066\n",
      "Data columns (total 2 columns):\n",
      " #   Column  Non-Null Count   Dtype \n",
      "---  ------  --------------   ----- \n",
      " 0   posts   106067 non-null  object\n",
      " 1   type    106067 non-null  object\n",
      "dtypes: object(2)\n",
      "memory usage: 1.6+ MB\n"
     ]
    }
   ],
   "source": [
    "MBTI = pd.read_csv(\"data\\MBTI 500.csv\")\n",
    "MBTI.info()"
   ]
  },
  {
   "cell_type": "code",
   "execution_count": 13,
   "id": "626200df",
   "metadata": {},
   "outputs": [
    {
     "data": {
      "text/html": [
       "<div>\n",
       "<style scoped>\n",
       "    .dataframe tbody tr th:only-of-type {\n",
       "        vertical-align: middle;\n",
       "    }\n",
       "\n",
       "    .dataframe tbody tr th {\n",
       "        vertical-align: top;\n",
       "    }\n",
       "\n",
       "    .dataframe thead th {\n",
       "        text-align: right;\n",
       "    }\n",
       "</style>\n",
       "<table border=\"1\" class=\"dataframe\">\n",
       "  <thead>\n",
       "    <tr style=\"text-align: right;\">\n",
       "      <th></th>\n",
       "      <th>posts</th>\n",
       "      <th>type</th>\n",
       "    </tr>\n",
       "  </thead>\n",
       "  <tbody>\n",
       "    <tr>\n",
       "      <th>0</th>\n",
       "      <td>know intj tool use interaction people excuse a...</td>\n",
       "      <td>INTJ</td>\n",
       "    </tr>\n",
       "    <tr>\n",
       "      <th>1</th>\n",
       "      <td>rap music ehh opp yeah know valid well know fa...</td>\n",
       "      <td>INTJ</td>\n",
       "    </tr>\n",
       "    <tr>\n",
       "      <th>2</th>\n",
       "      <td>preferably p hd low except wew lad video p min...</td>\n",
       "      <td>INTJ</td>\n",
       "    </tr>\n",
       "    <tr>\n",
       "      <th>3</th>\n",
       "      <td>drink like wish could drink red wine give head...</td>\n",
       "      <td>INTJ</td>\n",
       "    </tr>\n",
       "    <tr>\n",
       "      <th>4</th>\n",
       "      <td>space program ah bad deal meing freelance max ...</td>\n",
       "      <td>INTJ</td>\n",
       "    </tr>\n",
       "  </tbody>\n",
       "</table>\n",
       "</div>"
      ],
      "text/plain": [
       "                                               posts  type\n",
       "0  know intj tool use interaction people excuse a...  INTJ\n",
       "1  rap music ehh opp yeah know valid well know fa...  INTJ\n",
       "2  preferably p hd low except wew lad video p min...  INTJ\n",
       "3  drink like wish could drink red wine give head...  INTJ\n",
       "4  space program ah bad deal meing freelance max ...  INTJ"
      ]
     },
     "execution_count": 13,
     "metadata": {},
     "output_type": "execute_result"
    }
   ],
   "source": [
    "MBTI.head(5)"
   ]
  },
  {
   "cell_type": "code",
   "execution_count": 14,
   "id": "f598e65c",
   "metadata": {
    "scrolled": true
   },
   "outputs": [
    {
     "data": {
      "text/html": [
       "<div>\n",
       "<style scoped>\n",
       "    .dataframe tbody tr th:only-of-type {\n",
       "        vertical-align: middle;\n",
       "    }\n",
       "\n",
       "    .dataframe tbody tr th {\n",
       "        vertical-align: top;\n",
       "    }\n",
       "\n",
       "    .dataframe thead th {\n",
       "        text-align: right;\n",
       "    }\n",
       "</style>\n",
       "<table border=\"1\" class=\"dataframe\">\n",
       "  <thead>\n",
       "    <tr style=\"text-align: right;\">\n",
       "      <th></th>\n",
       "      <th>posts</th>\n",
       "      <th>type</th>\n",
       "    </tr>\n",
       "  </thead>\n",
       "  <tbody>\n",
       "    <tr>\n",
       "      <th>106062</th>\n",
       "      <td>stay frustrate world life want take long nap w...</td>\n",
       "      <td>INFP</td>\n",
       "    </tr>\n",
       "    <tr>\n",
       "      <th>106063</th>\n",
       "      <td>fizzle around time mention sure mistake thing ...</td>\n",
       "      <td>INFP</td>\n",
       "    </tr>\n",
       "    <tr>\n",
       "      <th>106064</th>\n",
       "      <td>schedule modify hey w intp strong wing underst...</td>\n",
       "      <td>INFP</td>\n",
       "    </tr>\n",
       "    <tr>\n",
       "      <th>106065</th>\n",
       "      <td>enfj since january busy schedule able spend li...</td>\n",
       "      <td>INFP</td>\n",
       "    </tr>\n",
       "    <tr>\n",
       "      <th>106066</th>\n",
       "      <td>feel like men good problem tell parent want te...</td>\n",
       "      <td>INFP</td>\n",
       "    </tr>\n",
       "  </tbody>\n",
       "</table>\n",
       "</div>"
      ],
      "text/plain": [
       "                                                    posts  type\n",
       "106062  stay frustrate world life want take long nap w...  INFP\n",
       "106063  fizzle around time mention sure mistake thing ...  INFP\n",
       "106064  schedule modify hey w intp strong wing underst...  INFP\n",
       "106065  enfj since january busy schedule able spend li...  INFP\n",
       "106066  feel like men good problem tell parent want te...  INFP"
      ]
     },
     "execution_count": 14,
     "metadata": {},
     "output_type": "execute_result"
    }
   ],
   "source": [
    "MBTI.tail(5)"
   ]
  },
  {
   "cell_type": "markdown",
   "id": "ca13ac2b",
   "metadata": {},
   "source": [
    " Python pandas 모듈의 DataFrame.sample() 메소드를 사용해서 DataFrame으로 부터 무작위 (확률, 임의) 표본 추출 (random sampling) 하는 방법을 소개하겠습니다.\n",
    "\n",
    "\n",
    "(1) DataFrame으로 부터 특정 개수의 표본을 무작위로 추출하기 (number)\n",
    "\n",
    "(2) DataFrame으로 부터 특정 비율의 표본을 무작위로 추출하기 (fraction)\n",
    "\n",
    "(3) DataFrame으로 부터 복원 무작위 표본 추출하기 (random sampling with replacement)\n",
    "\n",
    "(4) DataFrame으로 부터 가중치를 부여하여 표본 추출하기 (weights)\n",
    "\n",
    "(5) DataFrame으로 부터 칼럼에 대해 무작위 표본 추출하기 (axis=1, axis='column)\n",
    "\n",
    "(6) DataFrame으로 부터 특정 칼럼에 대해 무작위 표본 추출한 결과를 numpy array로 할당하기"
   ]
  },
  {
   "cell_type": "code",
   "execution_count": 15,
   "id": "98bdb2bd",
   "metadata": {},
   "outputs": [
    {
     "data": {
      "text/plain": [
       "Text(0.5, 1.0, 'Count of types')"
      ]
     },
     "execution_count": 15,
     "metadata": {},
     "output_type": "execute_result"
    },
    {
     "data": {
      "image/png": "[encoded data removed]",
      "text/plain": [
       "<Figure size 648x360 with 1 Axes>"
      ]
     },
     "metadata": {
      "needs_background": "light"
     },
     "output_type": "display_data"
    }
   ],
   "source": [
    "unique_labels, count = np.unique(df['type'], return_counts=True)\n",
    "fig = plt.figure(figsize=(9,5))\n",
    "plt.bar(unique_labels, count, width=0.8)\n",
    "plt.title(\"Count of types\")"
   ]
  },
  {
   "cell_type": "code",
   "execution_count": 16,
   "id": "4f0a868e",
   "metadata": {},
   "outputs": [],
   "source": [
    "MBTI = MBTI.rename(columns={'type':'Personality Type'})"
   ]
  },
  {
   "cell_type": "code",
   "execution_count": 17,
   "id": "5f79cf5e",
   "metadata": {},
   "outputs": [
    {
     "data": {
      "image/png": "[encoded data removed]",
      "text/plain": [
       "<Figure size 864x360 with 1 Axes>"
      ]
     },
     "metadata": {
      "needs_background": "light"
     },
     "output_type": "display_data"
    }
   ],
   "source": [
    "plt.figure(figsize=(12,5))\n",
    "plt.plot(MBTI['Personality Type'].value_counts())\n",
    "plt.title('Distribution of Classes')\n",
    "plt.show()"
   ]
  },
  {
   "cell_type": "code",
   "execution_count": null,
   "id": "f951d6a1",
   "metadata": {},
   "outputs": [],
   "source": [
    "#Some amount of class imbalance found. "
   ]
  },
  {
   "cell_type": "code",
   "execution_count": 18,
   "id": "290692d0",
   "metadata": {
    "scrolled": true
   },
   "outputs": [
    {
     "data": {
      "text/plain": [
       "count    106067.000000\n",
       "mean        500.019818\n",
       "std           1.209997\n",
       "min         479.000000\n",
       "25%         500.000000\n",
       "50%         500.000000\n",
       "75%         500.000000\n",
       "max         527.000000\n",
       "Name: Length, dtype: float64"
      ]
     },
     "execution_count": 18,
     "metadata": {},
     "output_type": "execute_result"
    }
   ],
   "source": [
    "MBTI['Length'] = MBTI['posts'].apply(lambda x: len(x.split(' ')))\n",
    "MBTI['Length'].describe()"
   ]
  },
  {
   "cell_type": "code",
   "execution_count": null,
   "id": "da942ced",
   "metadata": {},
   "outputs": [],
   "source": [
    "# 당신이 말씀하신 대로, 이 문장의 길이는 정확히 500자씩은 아닙니다."
   ]
  },
  {
   "cell_type": "code",
   "execution_count": 19,
   "id": "84ebcc68",
   "metadata": {},
   "outputs": [
    {
     "data": {
      "text/plain": [
       "10607"
      ]
     },
     "execution_count": 19,
     "metadata": {},
     "output_type": "execute_result"
    }
   ],
   "source": [
    "MBTI_Pred = MBTI.sample(frac=0.1)\n",
    "len(MBTI_Pred)"
   ]
  },
  {
   "cell_type": "code",
   "execution_count": 20,
   "id": "1a44d0f4",
   "metadata": {},
   "outputs": [
    {
     "data": {
      "image/png": "[encoded data removed]",
      "text/plain": [
       "<Figure size 864x360 with 1 Axes>"
      ]
     },
     "metadata": {
      "needs_background": "light"
     },
     "output_type": "display_data"
    }
   ],
   "source": [
    "plt.figure(figsize=(12,5))\n",
    "plt.plot(MBTI_Pred['Personality Type'].value_counts())\n",
    "plt.title('Distribution of Classes')\n",
    "plt.show()"
   ]
  },
  {
   "cell_type": "code",
   "execution_count": null,
   "id": "efe6a9d3",
   "metadata": {},
   "outputs": [],
   "source": []
  }
 ],
 "metadata": {
  "kernelspec": {
   "display_name": "Python 3 (ipykernel)",
   "language": "python",
   "name": "python3"
  },
  "language_info": {
   "codemirror_mode": {
    "name": "ipython",
    "version": 3
   },
   "file_extension": ".py",
   "mimetype": "text/x-python",
   "name": "python",
   "nbconvert_exporter": "python",
   "pygments_lexer": "ipython3",
   "version": "3.8.13"
  }
 },
 "nbformat": 4,
 "nbformat_minor": 5
}
